{
  "nbformat": 4,
  "nbformat_minor": 0,
  "metadata": {
    "colab": {
      "name": "SqueezeNet on CIFAR10.ipynb",
      "version": "0.3.2",
      "provenance": [],
      "collapsed_sections": [],
      "toc_visible": true
    },
    "kernelspec": {
      "name": "python3",
      "display_name": "Python 3"
    },
    "accelerator": "GPU"
  },
  "cells": [
    {
      "metadata": {
        "id": "wSHn4bB0Buv-",
        "colab_type": "code",
        "colab": {}
      },
      "cell_type": "code",
      "source": [
        "from keras.datasets import cifar10\n",
        "from keras.models import Model\n",
        "from keras.layers import Input, Dense, Dropout, Flatten, Conv2D, MaxPooling2D, BatchNormalization, GlobalAveragePooling2D, Activation, Concatenate\n",
        "from keras import optimizers\n",
        "from keras.utils import to_categorical\n",
        "from keras.preprocessing.image import ImageDataGenerator\n",
        "from keras.optimizers import SGD\n",
        "from keras.callbacks import LearningRateScheduler\n",
        "from sklearn.model_selection import train_test_split\n",
        "import math\n",
        "import numpy as np\n",
        "import matplotlib.pyplot as plt"
      ],
      "execution_count": 0,
      "outputs": []
    },
    {
      "metadata": {
        "id": "Iv3Yic_h55yi",
        "colab_type": "code",
        "outputId": "fa939ff0-d9c3-4925-906e-2190d63ff554",
        "colab": {
          "base_uri": "https://localhost:8080/",
          "height": 34
        }
      },
      "cell_type": "code",
      "source": [
        "from google.colab import drive\n",
        "drive.mount('gdrive')"
      ],
      "execution_count": 0,
      "outputs": [
        {
          "output_type": "stream",
          "text": [
            "Mounted at gdrive\n"
          ],
          "name": "stdout"
        }
      ]
    },
    {
      "metadata": {
        "id": "kE_wVRaoPFrd",
        "colab_type": "code",
        "colab": {}
      },
      "cell_type": "code",
      "source": [
        "batch_size = 128\n",
        "epochs = 100\n",
        "lr0 = 0.1"
      ],
      "execution_count": 0,
      "outputs": []
    },
    {
      "metadata": {
        "id": "ffjbysBGO-hZ",
        "colab_type": "code",
        "colab": {}
      },
      "cell_type": "code",
      "source": [
        "def linear_decay(epoch):\n",
        "    epochs_drop = 20\n",
        "    drop = 0.5\n",
        "    lrate = lr0 * math.pow(drop,  \n",
        "           math.floor((1+epoch)/epochs_drop))\n",
        "    return lrate\n",
        "\n",
        "lrate = LearningRateScheduler(linear_decay)"
      ],
      "execution_count": 0,
      "outputs": []
    },
    {
      "metadata": {
        "id": "tAgP82CYDING",
        "colab_type": "code",
        "colab": {}
      },
      "cell_type": "code",
      "source": [
        "(x_train, y_train), (x_test, y_test) = cifar10.load_data()"
      ],
      "execution_count": 0,
      "outputs": []
    },
    {
      "metadata": {
        "id": "67tXfPWUDONH",
        "colab_type": "code",
        "colab": {}
      },
      "cell_type": "code",
      "source": [
        "y_train = to_categorical(y_train, 10)\n",
        "y_test = to_categorical(y_test, 10)"
      ],
      "execution_count": 0,
      "outputs": []
    },
    {
      "metadata": {
        "id": "NWxEueyWIcmE",
        "colab_type": "code",
        "colab": {}
      },
      "cell_type": "code",
      "source": [
        "x_train, x_valid, y_train, y_valid = train_test_split(x_train, y_train, test_size = 0.1)"
      ],
      "execution_count": 0,
      "outputs": []
    },
    {
      "metadata": {
        "id": "-8GdPajtHCye",
        "colab_type": "code",
        "colab": {}
      },
      "cell_type": "code",
      "source": [
        "train_datagen = ImageDataGenerator(\n",
        "    featurewise_center=True,\n",
        "    featurewise_std_normalization=True,\n",
        "    rotation_range=15,\n",
        "    width_shift_range=0.1,\n",
        "    height_shift_range=0.1,\n",
        "    horizontal_flip=True\n",
        "    )\n",
        "\n",
        "valid_datagen = ImageDataGenerator(\n",
        "    featurewise_center = True,\n",
        "    featurewise_std_normalization=True\n",
        ")\n",
        "\n",
        "test_datagen = ImageDataGenerator(\n",
        "    featurewise_center = True,\n",
        "    featurewise_std_normalization=True\n",
        ")"
      ],
      "execution_count": 0,
      "outputs": []
    },
    {
      "metadata": {
        "id": "VtFcSgVAH3zM",
        "colab_type": "code",
        "colab": {}
      },
      "cell_type": "code",
      "source": [
        "train_datagen.fit(x_train)\n",
        "valid_datagen.fit(x_valid)\n",
        "test_datagen.fit(x_test)"
      ],
      "execution_count": 0,
      "outputs": []
    },
    {
      "metadata": {
        "id": "bhXcb53EGnoz",
        "colab_type": "code",
        "colab": {}
      },
      "cell_type": "code",
      "source": [
        "def fire_module(x, s1x1, e1x1, e3x3, name):\n",
        "    #Squeeze layer\n",
        "    squeeze = Conv2D(s1x1, (1, 1), activation='relu', padding='valid', kernel_initializer='glorot_uniform', name = name + 's1x1')(x)\n",
        "    squeeze_bn = BatchNormalization(name=name+'sbn')(squeeze)\n",
        "    \n",
        "    #Expand 1x1 layer and 3x3 layer are parallel\n",
        "\n",
        "    #Expand 1x1 layer\n",
        "    expand1x1 = Conv2D(e1x1, (1, 1), activation='relu', padding='valid', kernel_initializer='glorot_uniform', name = name + 'e1x1')(squeeze_bn)\n",
        "    \n",
        "    #Expand 3x3 layer\n",
        "    expand3x3 = Conv2D(e3x3, (3, 3), activation='relu', padding='same', kernel_initializer='glorot_uniform', name = name +  'e3x3')(squeeze_bn)\n",
        "    \n",
        "    #Concatenate expand1x1 and expand 3x3 at filters\n",
        "    output = Concatenate(axis = 3, name=name)([expand1x1, expand3x3])\n",
        "    \n",
        "    return output"
      ],
      "execution_count": 0,
      "outputs": []
    },
    {
      "metadata": {
        "id": "5gZG0ubBS5Qp",
        "colab_type": "code",
        "colab": {}
      },
      "cell_type": "code",
      "source": [
        "def SqueezeNet(height, width, channel):\n",
        "    inputs = Input(shape=(height, width, channel))\n",
        "    conv1 = Conv2D(96, kernel_size=(3, 3), strides=(2, 2),  padding='same', activation='relu', name = 'Conv1')(inputs)\n",
        "    maxpool1 = MaxPooling2D(pool_size=(2, 2), strides=(2, 2), name='Maxpool1')(conv1)\n",
        "    batch1 = BatchNormalization(name='Batch1')(maxpool1)\n",
        "#     fire2 = fire_module(batch1, 16, 64, 64, \"Fire2\")\n",
        "#     fire3 = fire_module(fire2, 16, 64, 64, \"Fire3\")\n",
        "    fire4 = fire_module(batch1, 32, 128, 128, \"Fire2\")\n",
        "    maxpool4 = MaxPooling2D(pool_size=(3, 3), strides=(2, 2), name='Maxpool2')(fire4)\n",
        "#     fire5 = fire_module(maxpool4, 32, 128, 128, \"Fire5\")\n",
        "    fire6 = fire_module(maxpool4, 48, 192, 192, \"Fire3\")\n",
        "    fire7 = fire_module(fire6, 48, 192, 192, \"Fire4\")\n",
        "    fire8 = fire_module(fire7, 48, 192, 192, \"Fire5\")\n",
        "    maxpool8 = MaxPooling2D(pool_size=(3, 3), strides=(2, 2), name='Maxpool5')(fire8)\n",
        "#     fire9 = fire_module(maxpool8, 64, 256, 256, \"Fire9\")\n",
        "    dropout = Dropout(0.5, name=\"Dropout\")(maxpool8)\n",
        "    conv10 = Conv2D(10, kernel_size=(1, 1), strides=(1, 1), padding='same', activation='relu', name='Conv6')(dropout)\n",
        "    batch10 = BatchNormalization(name='Batch6')(conv10)\n",
        "    avgpool10 = GlobalAveragePooling2D(name='GlobalAvgPool6')(batch10)\n",
        "    softmax = Activation('softmax')(avgpool10)\n",
        "    \n",
        "    squeezenet = Model(inputs=inputs, outputs=softmax)\n",
        "    return squeezenet"
      ],
      "execution_count": 0,
      "outputs": []
    },
    {
      "metadata": {
        "id": "UOXl0b-KU0Ec",
        "colab_type": "code",
        "colab": {}
      },
      "cell_type": "code",
      "source": [
        "squeezenet = SqueezeNet(32, 32, 3)\n",
        "sgd = SGD(lr = lr0, momentum = 0.9, nesterov=False)\n",
        "squeezenet.compile(loss='categorical_crossentropy', optimizer=sgd, metrics=['accuracy'])"
      ],
      "execution_count": 0,
      "outputs": []
    },
    {
      "metadata": {
        "id": "6Te2ZVf_Yl0t",
        "colab_type": "code",
        "outputId": "a337255b-7a31-4075-de1d-81bd6e05aa8a",
        "colab": {
          "base_uri": "https://localhost:8080/",
          "height": 1258
        }
      },
      "cell_type": "code",
      "source": [
        "squeezenet.summary()"
      ],
      "execution_count": 0,
      "outputs": [
        {
          "output_type": "stream",
          "text": [
            "__________________________________________________________________________________________________\n",
            "Layer (type)                    Output Shape         Param #     Connected to                     \n",
            "==================================================================================================\n",
            "input_2 (InputLayer)            (None, 32, 32, 3)    0                                            \n",
            "__________________________________________________________________________________________________\n",
            "Conv1 (Conv2D)                  (None, 16, 16, 96)   2688        input_2[0][0]                    \n",
            "__________________________________________________________________________________________________\n",
            "Maxpool1 (MaxPooling2D)         (None, 8, 8, 96)     0           Conv1[0][0]                      \n",
            "__________________________________________________________________________________________________\n",
            "Batch1 (BatchNormalization)     (None, 8, 8, 96)     384         Maxpool1[0][0]                   \n",
            "__________________________________________________________________________________________________\n",
            "Fire2s1x1 (Conv2D)              (None, 8, 8, 32)     3104        Batch1[0][0]                     \n",
            "__________________________________________________________________________________________________\n",
            "Fire2sbn (BatchNormalization)   (None, 8, 8, 32)     128         Fire2s1x1[0][0]                  \n",
            "__________________________________________________________________________________________________\n",
            "Fire2e1x1 (Conv2D)              (None, 8, 8, 128)    4224        Fire2sbn[0][0]                   \n",
            "__________________________________________________________________________________________________\n",
            "Fire2e3x3 (Conv2D)              (None, 8, 8, 128)    36992       Fire2sbn[0][0]                   \n",
            "__________________________________________________________________________________________________\n",
            "Fire2 (Concatenate)             (None, 8, 8, 256)    0           Fire2e1x1[0][0]                  \n",
            "                                                                 Fire2e3x3[0][0]                  \n",
            "__________________________________________________________________________________________________\n",
            "Maxpool2 (MaxPooling2D)         (None, 3, 3, 256)    0           Fire2[0][0]                      \n",
            "__________________________________________________________________________________________________\n",
            "Fire3s1x1 (Conv2D)              (None, 3, 3, 48)     12336       Maxpool2[0][0]                   \n",
            "__________________________________________________________________________________________________\n",
            "Fire3sbn (BatchNormalization)   (None, 3, 3, 48)     192         Fire3s1x1[0][0]                  \n",
            "__________________________________________________________________________________________________\n",
            "Fire3e1x1 (Conv2D)              (None, 3, 3, 192)    9408        Fire3sbn[0][0]                   \n",
            "__________________________________________________________________________________________________\n",
            "Fire3e3x3 (Conv2D)              (None, 3, 3, 192)    83136       Fire3sbn[0][0]                   \n",
            "__________________________________________________________________________________________________\n",
            "Fire3 (Concatenate)             (None, 3, 3, 384)    0           Fire3e1x1[0][0]                  \n",
            "                                                                 Fire3e3x3[0][0]                  \n",
            "__________________________________________________________________________________________________\n",
            "Fire4s1x1 (Conv2D)              (None, 3, 3, 48)     18480       Fire3[0][0]                      \n",
            "__________________________________________________________________________________________________\n",
            "Fire4sbn (BatchNormalization)   (None, 3, 3, 48)     192         Fire4s1x1[0][0]                  \n",
            "__________________________________________________________________________________________________\n",
            "Fire4e1x1 (Conv2D)              (None, 3, 3, 192)    9408        Fire4sbn[0][0]                   \n",
            "__________________________________________________________________________________________________\n",
            "Fire4e3x3 (Conv2D)              (None, 3, 3, 192)    83136       Fire4sbn[0][0]                   \n",
            "__________________________________________________________________________________________________\n",
            "Fire4 (Concatenate)             (None, 3, 3, 384)    0           Fire4e1x1[0][0]                  \n",
            "                                                                 Fire4e3x3[0][0]                  \n",
            "__________________________________________________________________________________________________\n",
            "Fire5s1x1 (Conv2D)              (None, 3, 3, 48)     18480       Fire4[0][0]                      \n",
            "__________________________________________________________________________________________________\n",
            "Fire5sbn (BatchNormalization)   (None, 3, 3, 48)     192         Fire5s1x1[0][0]                  \n",
            "__________________________________________________________________________________________________\n",
            "Fire5e1x1 (Conv2D)              (None, 3, 3, 192)    9408        Fire5sbn[0][0]                   \n",
            "__________________________________________________________________________________________________\n",
            "Fire5e3x3 (Conv2D)              (None, 3, 3, 192)    83136       Fire5sbn[0][0]                   \n",
            "__________________________________________________________________________________________________\n",
            "Fire5 (Concatenate)             (None, 3, 3, 384)    0           Fire5e1x1[0][0]                  \n",
            "                                                                 Fire5e3x3[0][0]                  \n",
            "__________________________________________________________________________________________________\n",
            "Maxpool5 (MaxPooling2D)         (None, 1, 1, 384)    0           Fire5[0][0]                      \n",
            "__________________________________________________________________________________________________\n",
            "Dropout (Dropout)               (None, 1, 1, 384)    0           Maxpool5[0][0]                   \n",
            "__________________________________________________________________________________________________\n",
            "Conv6 (Conv2D)                  (None, 1, 1, 10)     3850        Dropout[0][0]                    \n",
            "__________________________________________________________________________________________________\n",
            "Batch6 (BatchNormalization)     (None, 1, 1, 10)     40          Conv6[0][0]                      \n",
            "__________________________________________________________________________________________________\n",
            "GlobalAvgPool6 (GlobalAveragePo (None, 10)           0           Batch6[0][0]                     \n",
            "__________________________________________________________________________________________________\n",
            "activation_2 (Activation)       (None, 10)           0           GlobalAvgPool6[0][0]             \n",
            "==================================================================================================\n",
            "Total params: 378,914\n",
            "Trainable params: 378,350\n",
            "Non-trainable params: 564\n",
            "__________________________________________________________________________________________________\n"
          ],
          "name": "stdout"
        }
      ]
    },
    {
      "metadata": {
        "id": "274MW_WEU2XX",
        "colab_type": "code",
        "outputId": "5b3468d4-e5a2-4972-e282-63647c2e8fe1",
        "colab": {
          "base_uri": "https://localhost:8080/",
          "height": 3437
        }
      },
      "cell_type": "code",
      "source": [
        "callbacks_list = [lrate]\n",
        "squeezenet_his = squeezenet.fit_generator(train_datagen.flow(x_train, y_train, batch_size=batch_size), \n",
        "                                    steps_per_epoch = len(x_train) / batch_size, \n",
        "                                    epochs = epochs, \n",
        "                                   validation_data=valid_datagen.flow(x_valid, y_valid, batch_size=batch_size),\n",
        "                                   validation_steps=len(x_valid) / batch_size,\n",
        "                                          callbacks=callbacks_list)"
      ],
      "execution_count": 0,
      "outputs": [
        {
          "output_type": "stream",
          "text": [
            "Epoch 1/100\n",
            "352/351 [==============================] - 30s 87ms/step - loss: 1.6992 - acc: 0.3682 - val_loss: 1.5922 - val_acc: 0.4278\n",
            "Epoch 2/100\n",
            "352/351 [==============================] - 30s 84ms/step - loss: 1.3704 - acc: 0.5038 - val_loss: 1.4814 - val_acc: 0.4874\n",
            "Epoch 3/100\n",
            "352/351 [==============================] - 30s 86ms/step - loss: 1.2052 - acc: 0.5741 - val_loss: 1.3062 - val_acc: 0.5558\n",
            "Epoch 4/100\n",
            "352/351 [==============================] - 30s 85ms/step - loss: 1.1066 - acc: 0.6086 - val_loss: 1.0602 - val_acc: 0.6254\n",
            "Epoch 5/100\n",
            "352/351 [==============================] - 30s 86ms/step - loss: 1.0295 - acc: 0.6385 - val_loss: 1.5706 - val_acc: 0.5232\n",
            "Epoch 6/100\n",
            "352/351 [==============================] - 30s 84ms/step - loss: 0.9743 - acc: 0.6590 - val_loss: 1.1795 - val_acc: 0.6142\n",
            "Epoch 7/100\n",
            "352/351 [==============================] - 30s 86ms/step - loss: 0.9219 - acc: 0.6783 - val_loss: 1.0656 - val_acc: 0.6318\n",
            "Epoch 8/100\n",
            "352/351 [==============================] - 30s 85ms/step - loss: 0.8756 - acc: 0.6933 - val_loss: 0.8687 - val_acc: 0.7006\n",
            "Epoch 9/100\n",
            "352/351 [==============================] - 30s 85ms/step - loss: 0.8407 - acc: 0.7084 - val_loss: 0.9392 - val_acc: 0.6794\n",
            "Epoch 10/100\n",
            "352/351 [==============================] - 30s 85ms/step - loss: 0.8060 - acc: 0.7209 - val_loss: 0.8595 - val_acc: 0.7098\n",
            "Epoch 11/100\n",
            "352/351 [==============================] - 30s 86ms/step - loss: 0.7799 - acc: 0.7270 - val_loss: 0.9372 - val_acc: 0.6862\n",
            "Epoch 12/100\n",
            "352/351 [==============================] - 30s 86ms/step - loss: 0.7573 - acc: 0.7393 - val_loss: 0.8848 - val_acc: 0.7020\n",
            "Epoch 13/100\n",
            "352/351 [==============================] - 30s 87ms/step - loss: 0.7356 - acc: 0.7457 - val_loss: 0.7791 - val_acc: 0.7288\n",
            "Epoch 14/100\n",
            "352/351 [==============================] - 31s 87ms/step - loss: 0.7174 - acc: 0.7509 - val_loss: 0.7656 - val_acc: 0.7288\n",
            "Epoch 15/100\n",
            "352/351 [==============================] - 29s 83ms/step - loss: 0.6976 - acc: 0.7596 - val_loss: 0.9076 - val_acc: 0.6916\n",
            "Epoch 16/100\n",
            "352/351 [==============================] - 30s 85ms/step - loss: 0.6748 - acc: 0.7683 - val_loss: 0.7180 - val_acc: 0.7544\n",
            "Epoch 17/100\n",
            "352/351 [==============================] - 30s 84ms/step - loss: 0.6669 - acc: 0.7684 - val_loss: 0.7682 - val_acc: 0.7338\n",
            "Epoch 18/100\n",
            "352/351 [==============================] - 29s 83ms/step - loss: 0.6463 - acc: 0.7775 - val_loss: 0.7463 - val_acc: 0.7456\n",
            "Epoch 19/100\n",
            "352/351 [==============================] - 30s 85ms/step - loss: 0.6372 - acc: 0.7815 - val_loss: 0.7766 - val_acc: 0.7368\n",
            "Epoch 20/100\n",
            "352/351 [==============================] - 30s 85ms/step - loss: 0.5800 - acc: 0.7998 - val_loss: 0.6236 - val_acc: 0.7824\n",
            "Epoch 21/100\n",
            "352/351 [==============================] - 30s 84ms/step - loss: 0.5635 - acc: 0.8063 - val_loss: 0.6288 - val_acc: 0.7824\n",
            "Epoch 22/100\n",
            "352/351 [==============================] - 30s 84ms/step - loss: 0.5540 - acc: 0.8103 - val_loss: 0.5867 - val_acc: 0.7968\n",
            "Epoch 23/100\n",
            "352/351 [==============================] - 30s 85ms/step - loss: 0.5419 - acc: 0.8108 - val_loss: 0.6188 - val_acc: 0.7856\n",
            "Epoch 24/100\n",
            "352/351 [==============================] - 30s 85ms/step - loss: 0.5405 - acc: 0.8127 - val_loss: 0.6350 - val_acc: 0.7836\n",
            "Epoch 25/100\n",
            "352/351 [==============================] - 30s 84ms/step - loss: 0.5308 - acc: 0.8169 - val_loss: 0.6353 - val_acc: 0.7808\n",
            "Epoch 26/100\n",
            "352/351 [==============================] - 30s 84ms/step - loss: 0.5260 - acc: 0.8191 - val_loss: 0.6888 - val_acc: 0.7712\n",
            "Epoch 27/100\n",
            "352/351 [==============================] - 30s 85ms/step - loss: 0.5202 - acc: 0.8199 - val_loss: 0.6254 - val_acc: 0.7900\n",
            "Epoch 28/100\n",
            "352/351 [==============================] - 30s 84ms/step - loss: 0.5103 - acc: 0.8242 - val_loss: 0.6654 - val_acc: 0.7768\n",
            "Epoch 29/100\n",
            "352/351 [==============================] - 29s 84ms/step - loss: 0.5136 - acc: 0.8229 - val_loss: 0.6604 - val_acc: 0.7804\n",
            "Epoch 30/100\n",
            "352/351 [==============================] - 29s 83ms/step - loss: 0.4956 - acc: 0.8285 - val_loss: 0.6367 - val_acc: 0.7858\n",
            "Epoch 31/100\n",
            "352/351 [==============================] - 30s 84ms/step - loss: 0.5001 - acc: 0.8262 - val_loss: 0.5946 - val_acc: 0.7966\n",
            "Epoch 32/100\n",
            "352/351 [==============================] - 29s 83ms/step - loss: 0.4937 - acc: 0.8284 - val_loss: 0.6821 - val_acc: 0.7760\n",
            "Epoch 33/100\n",
            "352/351 [==============================] - 29s 84ms/step - loss: 0.4941 - acc: 0.8267 - val_loss: 0.6784 - val_acc: 0.7806\n",
            "Epoch 34/100\n",
            "352/351 [==============================] - 30s 85ms/step - loss: 0.4876 - acc: 0.8297 - val_loss: 0.6142 - val_acc: 0.7928\n",
            "Epoch 35/100\n",
            "352/351 [==============================] - 30s 85ms/step - loss: 0.4809 - acc: 0.8332 - val_loss: 0.6226 - val_acc: 0.7926\n",
            "Epoch 36/100\n",
            "352/351 [==============================] - 30s 84ms/step - loss: 0.4734 - acc: 0.8359 - val_loss: 0.5920 - val_acc: 0.8028\n",
            "Epoch 37/100\n",
            "352/351 [==============================] - 30s 84ms/step - loss: 0.4701 - acc: 0.8374 - val_loss: 0.6665 - val_acc: 0.7780\n",
            "Epoch 38/100\n",
            "352/351 [==============================] - 29s 83ms/step - loss: 0.4661 - acc: 0.8395 - val_loss: 0.5879 - val_acc: 0.8040\n",
            "Epoch 39/100\n",
            "352/351 [==============================] - 30s 84ms/step - loss: 0.4633 - acc: 0.8388 - val_loss: 0.6832 - val_acc: 0.7726\n",
            "Epoch 40/100\n",
            "352/351 [==============================] - 30s 84ms/step - loss: 0.4304 - acc: 0.8514 - val_loss: 0.5523 - val_acc: 0.8122\n",
            "Epoch 41/100\n",
            "352/351 [==============================] - 30s 84ms/step - loss: 0.4203 - acc: 0.8548 - val_loss: 0.5976 - val_acc: 0.8068\n",
            "Epoch 42/100\n",
            "352/351 [==============================] - 30s 85ms/step - loss: 0.4113 - acc: 0.8557 - val_loss: 0.5945 - val_acc: 0.8036\n",
            "Epoch 43/100\n",
            "352/351 [==============================] - 30s 84ms/step - loss: 0.4101 - acc: 0.8589 - val_loss: 0.5802 - val_acc: 0.8052\n",
            "Epoch 44/100\n",
            "352/351 [==============================] - 30s 85ms/step - loss: 0.4046 - acc: 0.8594 - val_loss: 0.5773 - val_acc: 0.8096\n",
            "Epoch 45/100\n",
            "352/351 [==============================] - 30s 86ms/step - loss: 0.3993 - acc: 0.8604 - val_loss: 0.6043 - val_acc: 0.8026\n",
            "Epoch 46/100\n",
            "352/351 [==============================] - 30s 85ms/step - loss: 0.4038 - acc: 0.8609 - val_loss: 0.5852 - val_acc: 0.8056\n",
            "Epoch 47/100\n",
            "352/351 [==============================] - 30s 85ms/step - loss: 0.3964 - acc: 0.8621 - val_loss: 0.5685 - val_acc: 0.8080\n",
            "Epoch 48/100\n",
            "352/351 [==============================] - 30s 85ms/step - loss: 0.3929 - acc: 0.8636 - val_loss: 0.6080 - val_acc: 0.8010\n",
            "Epoch 49/100\n",
            "352/351 [==============================] - 30s 85ms/step - loss: 0.3943 - acc: 0.8617 - val_loss: 0.6051 - val_acc: 0.8020\n",
            "Epoch 50/100\n",
            "352/351 [==============================] - 30s 85ms/step - loss: 0.3884 - acc: 0.8659 - val_loss: 0.5752 - val_acc: 0.8088\n",
            "Epoch 51/100\n",
            "352/351 [==============================] - 30s 85ms/step - loss: 0.3909 - acc: 0.8642 - val_loss: 0.5555 - val_acc: 0.8190\n",
            "Epoch 52/100\n",
            "352/351 [==============================] - 30s 85ms/step - loss: 0.3842 - acc: 0.8656 - val_loss: 0.5692 - val_acc: 0.8064\n",
            "Epoch 53/100\n",
            "352/351 [==============================] - 30s 85ms/step - loss: 0.3824 - acc: 0.8675 - val_loss: 0.6123 - val_acc: 0.7998\n",
            "Epoch 54/100\n",
            "352/351 [==============================] - 30s 85ms/step - loss: 0.3757 - acc: 0.8707 - val_loss: 0.6015 - val_acc: 0.8032\n",
            "Epoch 55/100\n",
            "352/351 [==============================] - 30s 86ms/step - loss: 0.3759 - acc: 0.8684 - val_loss: 0.6551 - val_acc: 0.7896\n",
            "Epoch 56/100\n",
            "352/351 [==============================] - 30s 85ms/step - loss: 0.3784 - acc: 0.8694 - val_loss: 0.6021 - val_acc: 0.8028\n",
            "Epoch 57/100\n",
            "352/351 [==============================] - 30s 85ms/step - loss: 0.3793 - acc: 0.8689 - val_loss: 0.5895 - val_acc: 0.8090\n",
            "Epoch 58/100\n",
            "352/351 [==============================] - 30s 85ms/step - loss: 0.3758 - acc: 0.8693 - val_loss: 0.6395 - val_acc: 0.7962\n",
            "Epoch 59/100\n",
            "352/351 [==============================] - 30s 85ms/step - loss: 0.3681 - acc: 0.8724 - val_loss: 0.6137 - val_acc: 0.8008\n",
            "Epoch 60/100\n",
            "352/351 [==============================] - 30s 85ms/step - loss: 0.3482 - acc: 0.8783 - val_loss: 0.5709 - val_acc: 0.8152\n",
            "Epoch 61/100\n",
            "352/351 [==============================] - 30s 85ms/step - loss: 0.3409 - acc: 0.8796 - val_loss: 0.5933 - val_acc: 0.8136\n",
            "Epoch 62/100\n",
            "352/351 [==============================] - 30s 86ms/step - loss: 0.3415 - acc: 0.8806 - val_loss: 0.6045 - val_acc: 0.8104\n",
            "Epoch 63/100\n",
            "352/351 [==============================] - 30s 86ms/step - loss: 0.3355 - acc: 0.8822 - val_loss: 0.6000 - val_acc: 0.8090\n",
            "Epoch 64/100\n",
            "352/351 [==============================] - 30s 85ms/step - loss: 0.3364 - acc: 0.8821 - val_loss: 0.6057 - val_acc: 0.8112\n",
            "Epoch 65/100\n",
            "352/351 [==============================] - 30s 86ms/step - loss: 0.3304 - acc: 0.8843 - val_loss: 0.5847 - val_acc: 0.8148\n",
            "Epoch 66/100\n",
            "352/351 [==============================] - 30s 86ms/step - loss: 0.3323 - acc: 0.8840 - val_loss: 0.6056 - val_acc: 0.8076\n",
            "Epoch 67/100\n",
            "352/351 [==============================] - 31s 87ms/step - loss: 0.3287 - acc: 0.8857 - val_loss: 0.6038 - val_acc: 0.8104\n",
            "Epoch 68/100\n",
            "352/351 [==============================] - 30s 85ms/step - loss: 0.3310 - acc: 0.8830 - val_loss: 0.5748 - val_acc: 0.8152\n",
            "Epoch 69/100\n",
            "352/351 [==============================] - 30s 85ms/step - loss: 0.3283 - acc: 0.8849 - val_loss: 0.5900 - val_acc: 0.8166\n",
            "Epoch 70/100\n",
            "352/351 [==============================] - 30s 85ms/step - loss: 0.3281 - acc: 0.8849 - val_loss: 0.6087 - val_acc: 0.8094\n",
            "Epoch 71/100\n",
            "352/351 [==============================] - 31s 88ms/step - loss: 0.3281 - acc: 0.8850 - val_loss: 0.6202 - val_acc: 0.8030\n",
            "Epoch 72/100\n",
            "352/351 [==============================] - 31s 89ms/step - loss: 0.3200 - acc: 0.8865 - val_loss: 0.5887 - val_acc: 0.8172\n",
            "Epoch 73/100\n",
            "352/351 [==============================] - 30s 85ms/step - loss: 0.3219 - acc: 0.8876 - val_loss: 0.6088 - val_acc: 0.8052\n",
            "Epoch 74/100\n",
            "352/351 [==============================] - 30s 85ms/step - loss: 0.3198 - acc: 0.8892 - val_loss: 0.5988 - val_acc: 0.8126\n",
            "Epoch 75/100\n",
            "352/351 [==============================] - 30s 86ms/step - loss: 0.3172 - acc: 0.8871 - val_loss: 0.6059 - val_acc: 0.8148\n",
            "Epoch 76/100\n",
            "352/351 [==============================] - 30s 86ms/step - loss: 0.3180 - acc: 0.8882 - val_loss: 0.5831 - val_acc: 0.8130\n",
            "Epoch 77/100\n",
            "352/351 [==============================] - 30s 86ms/step - loss: 0.3179 - acc: 0.8881 - val_loss: 0.5955 - val_acc: 0.8130\n",
            "Epoch 78/100\n",
            "352/351 [==============================] - 30s 86ms/step - loss: 0.3122 - acc: 0.8898 - val_loss: 0.6073 - val_acc: 0.8086\n",
            "Epoch 79/100\n",
            "352/351 [==============================] - 30s 85ms/step - loss: 0.3145 - acc: 0.8900 - val_loss: 0.6024 - val_acc: 0.8126\n",
            "Epoch 80/100\n",
            "352/351 [==============================] - 30s 84ms/step - loss: 0.2993 - acc: 0.8944 - val_loss: 0.5874 - val_acc: 0.8148\n",
            "Epoch 81/100\n",
            "352/351 [==============================] - 30s 85ms/step - loss: 0.2992 - acc: 0.8947 - val_loss: 0.6041 - val_acc: 0.8126\n",
            "Epoch 82/100\n",
            "352/351 [==============================] - 30s 85ms/step - loss: 0.2997 - acc: 0.8962 - val_loss: 0.6221 - val_acc: 0.8072\n",
            "Epoch 83/100\n",
            "352/351 [==============================] - 30s 84ms/step - loss: 0.2974 - acc: 0.8967 - val_loss: 0.5989 - val_acc: 0.8118\n",
            "Epoch 84/100\n",
            "352/351 [==============================] - 29s 84ms/step - loss: 0.2964 - acc: 0.8942 - val_loss: 0.5816 - val_acc: 0.8144\n",
            "Epoch 85/100\n",
            "352/351 [==============================] - 29s 83ms/step - loss: 0.2930 - acc: 0.8981 - val_loss: 0.6009 - val_acc: 0.8130\n",
            "Epoch 86/100\n",
            "352/351 [==============================] - 30s 86ms/step - loss: 0.2863 - acc: 0.9007 - val_loss: 0.6050 - val_acc: 0.8140\n",
            "Epoch 87/100\n",
            "352/351 [==============================] - 30s 84ms/step - loss: 0.2922 - acc: 0.8966 - val_loss: 0.6037 - val_acc: 0.8120\n",
            "Epoch 88/100\n",
            "352/351 [==============================] - 30s 84ms/step - loss: 0.2891 - acc: 0.8980 - val_loss: 0.5948 - val_acc: 0.8148\n",
            "Epoch 89/100\n",
            "352/351 [==============================] - 29s 83ms/step - loss: 0.2887 - acc: 0.8982 - val_loss: 0.5938 - val_acc: 0.8146\n",
            "Epoch 90/100\n",
            "352/351 [==============================] - 29s 83ms/step - loss: 0.2863 - acc: 0.8977 - val_loss: 0.6193 - val_acc: 0.8092\n",
            "Epoch 91/100\n",
            "352/351 [==============================] - 30s 84ms/step - loss: 0.2845 - acc: 0.8993 - val_loss: 0.6095 - val_acc: 0.8120\n",
            "Epoch 92/100\n",
            "352/351 [==============================] - 29s 84ms/step - loss: 0.2907 - acc: 0.8995 - val_loss: 0.5843 - val_acc: 0.8192\n",
            "Epoch 93/100\n",
            "352/351 [==============================] - 29s 84ms/step - loss: 0.2879 - acc: 0.8989 - val_loss: 0.6270 - val_acc: 0.8102\n",
            "Epoch 94/100\n",
            "352/351 [==============================] - 29s 83ms/step - loss: 0.2862 - acc: 0.9015 - val_loss: 0.6106 - val_acc: 0.8132\n",
            "Epoch 95/100\n",
            "352/351 [==============================] - 30s 84ms/step - loss: 0.2822 - acc: 0.9008 - val_loss: 0.6127 - val_acc: 0.8144\n",
            "Epoch 96/100\n",
            "352/351 [==============================] - 30s 86ms/step - loss: 0.2794 - acc: 0.9014 - val_loss: 0.6108 - val_acc: 0.8130\n",
            "Epoch 97/100\n",
            "352/351 [==============================] - 31s 88ms/step - loss: 0.2809 - acc: 0.9012 - val_loss: 0.6130 - val_acc: 0.8156\n",
            "Epoch 98/100\n",
            "352/351 [==============================] - 31s 87ms/step - loss: 0.2814 - acc: 0.9019 - val_loss: 0.6239 - val_acc: 0.8158\n",
            "Epoch 99/100\n",
            "352/351 [==============================] - 30s 86ms/step - loss: 0.2832 - acc: 0.8997 - val_loss: 0.6071 - val_acc: 0.8164\n",
            "Epoch 100/100\n",
            "352/351 [==============================] - 30s 85ms/step - loss: 0.2704 - acc: 0.9046 - val_loss: 0.6127 - val_acc: 0.8164\n"
          ],
          "name": "stdout"
        }
      ]
    },
    {
      "metadata": {
        "id": "s4HmG05i6npc",
        "colab_type": "code",
        "outputId": "733affb8-6b72-453e-8bd4-678744fbaf8e",
        "colab": {
          "base_uri": "https://localhost:8080/",
          "height": 643
        }
      },
      "cell_type": "code",
      "source": [
        "squeezenet.save_weights(\"gdrive/My\\ Drive/colab/squeezenet_old.h5\")"
      ],
      "execution_count": 0,
      "outputs": [
        {
          "output_type": "error",
          "ename": "OSError",
          "evalue": "ignored",
          "traceback": [
            "\u001b[0;31m---------------------------------------------------------------------------\u001b[0m",
            "\u001b[0;31mOSError\u001b[0m                                   Traceback (most recent call last)",
            "\u001b[0;32m<ipython-input-30-f982dc76846a>\u001b[0m in \u001b[0;36m<module>\u001b[0;34m()\u001b[0m\n\u001b[0;32m----> 1\u001b[0;31m \u001b[0msqueezenet\u001b[0m\u001b[0;34m.\u001b[0m\u001b[0msave_weights\u001b[0m\u001b[0;34m(\u001b[0m\u001b[0;34m\"gdrive/My\\ Drive/colab/squeezenet_old.h5\"\u001b[0m\u001b[0;34m)\u001b[0m\u001b[0;34m\u001b[0m\u001b[0;34m\u001b[0m\u001b[0m\n\u001b[0m",
            "\u001b[0;32m/usr/local/lib/python3.6/dist-packages/keras/engine/network.py\u001b[0m in \u001b[0;36msave_weights\u001b[0;34m(self, filepath, overwrite)\u001b[0m\n\u001b[1;32m   1118\u001b[0m             \u001b[0;32mif\u001b[0m \u001b[0;32mnot\u001b[0m \u001b[0mproceed\u001b[0m\u001b[0;34m:\u001b[0m\u001b[0;34m\u001b[0m\u001b[0;34m\u001b[0m\u001b[0m\n\u001b[1;32m   1119\u001b[0m                 \u001b[0;32mreturn\u001b[0m\u001b[0;34m\u001b[0m\u001b[0;34m\u001b[0m\u001b[0m\n\u001b[0;32m-> 1120\u001b[0;31m         \u001b[0;32mwith\u001b[0m \u001b[0mh5py\u001b[0m\u001b[0;34m.\u001b[0m\u001b[0mFile\u001b[0m\u001b[0;34m(\u001b[0m\u001b[0mfilepath\u001b[0m\u001b[0;34m,\u001b[0m \u001b[0;34m'w'\u001b[0m\u001b[0;34m)\u001b[0m \u001b[0;32mas\u001b[0m \u001b[0mf\u001b[0m\u001b[0;34m:\u001b[0m\u001b[0;34m\u001b[0m\u001b[0;34m\u001b[0m\u001b[0m\n\u001b[0m\u001b[1;32m   1121\u001b[0m             \u001b[0msaving\u001b[0m\u001b[0;34m.\u001b[0m\u001b[0msave_weights_to_hdf5_group\u001b[0m\u001b[0;34m(\u001b[0m\u001b[0mf\u001b[0m\u001b[0;34m,\u001b[0m \u001b[0mself\u001b[0m\u001b[0;34m.\u001b[0m\u001b[0mlayers\u001b[0m\u001b[0;34m)\u001b[0m\u001b[0;34m\u001b[0m\u001b[0;34m\u001b[0m\u001b[0m\n\u001b[1;32m   1122\u001b[0m             \u001b[0mf\u001b[0m\u001b[0;34m.\u001b[0m\u001b[0mflush\u001b[0m\u001b[0;34m(\u001b[0m\u001b[0;34m)\u001b[0m\u001b[0;34m\u001b[0m\u001b[0;34m\u001b[0m\u001b[0m\n",
            "\u001b[0;32m/usr/local/lib/python3.6/dist-packages/h5py/_hl/files.py\u001b[0m in \u001b[0;36m__init__\u001b[0;34m(self, name, mode, driver, libver, userblock_size, swmr, **kwds)\u001b[0m\n\u001b[1;32m    310\u001b[0m             \u001b[0;32mwith\u001b[0m \u001b[0mphil\u001b[0m\u001b[0;34m:\u001b[0m\u001b[0;34m\u001b[0m\u001b[0;34m\u001b[0m\u001b[0m\n\u001b[1;32m    311\u001b[0m                 \u001b[0mfapl\u001b[0m \u001b[0;34m=\u001b[0m \u001b[0mmake_fapl\u001b[0m\u001b[0;34m(\u001b[0m\u001b[0mdriver\u001b[0m\u001b[0;34m,\u001b[0m \u001b[0mlibver\u001b[0m\u001b[0;34m,\u001b[0m \u001b[0;34m**\u001b[0m\u001b[0mkwds\u001b[0m\u001b[0;34m)\u001b[0m\u001b[0;34m\u001b[0m\u001b[0;34m\u001b[0m\u001b[0m\n\u001b[0;32m--> 312\u001b[0;31m                 \u001b[0mfid\u001b[0m \u001b[0;34m=\u001b[0m \u001b[0mmake_fid\u001b[0m\u001b[0;34m(\u001b[0m\u001b[0mname\u001b[0m\u001b[0;34m,\u001b[0m \u001b[0mmode\u001b[0m\u001b[0;34m,\u001b[0m \u001b[0muserblock_size\u001b[0m\u001b[0;34m,\u001b[0m \u001b[0mfapl\u001b[0m\u001b[0;34m,\u001b[0m \u001b[0mswmr\u001b[0m\u001b[0;34m=\u001b[0m\u001b[0mswmr\u001b[0m\u001b[0;34m)\u001b[0m\u001b[0;34m\u001b[0m\u001b[0;34m\u001b[0m\u001b[0m\n\u001b[0m\u001b[1;32m    313\u001b[0m \u001b[0;34m\u001b[0m\u001b[0m\n\u001b[1;32m    314\u001b[0m                 \u001b[0;32mif\u001b[0m \u001b[0mswmr_support\u001b[0m\u001b[0;34m:\u001b[0m\u001b[0;34m\u001b[0m\u001b[0;34m\u001b[0m\u001b[0m\n",
            "\u001b[0;32m/usr/local/lib/python3.6/dist-packages/h5py/_hl/files.py\u001b[0m in \u001b[0;36mmake_fid\u001b[0;34m(name, mode, userblock_size, fapl, fcpl, swmr)\u001b[0m\n\u001b[1;32m    146\u001b[0m         \u001b[0mfid\u001b[0m \u001b[0;34m=\u001b[0m \u001b[0mh5f\u001b[0m\u001b[0;34m.\u001b[0m\u001b[0mcreate\u001b[0m\u001b[0;34m(\u001b[0m\u001b[0mname\u001b[0m\u001b[0;34m,\u001b[0m \u001b[0mh5f\u001b[0m\u001b[0;34m.\u001b[0m\u001b[0mACC_EXCL\u001b[0m\u001b[0;34m,\u001b[0m \u001b[0mfapl\u001b[0m\u001b[0;34m=\u001b[0m\u001b[0mfapl\u001b[0m\u001b[0;34m,\u001b[0m \u001b[0mfcpl\u001b[0m\u001b[0;34m=\u001b[0m\u001b[0mfcpl\u001b[0m\u001b[0;34m)\u001b[0m\u001b[0;34m\u001b[0m\u001b[0;34m\u001b[0m\u001b[0m\n\u001b[1;32m    147\u001b[0m     \u001b[0;32melif\u001b[0m \u001b[0mmode\u001b[0m \u001b[0;34m==\u001b[0m \u001b[0;34m'w'\u001b[0m\u001b[0;34m:\u001b[0m\u001b[0;34m\u001b[0m\u001b[0;34m\u001b[0m\u001b[0m\n\u001b[0;32m--> 148\u001b[0;31m         \u001b[0mfid\u001b[0m \u001b[0;34m=\u001b[0m \u001b[0mh5f\u001b[0m\u001b[0;34m.\u001b[0m\u001b[0mcreate\u001b[0m\u001b[0;34m(\u001b[0m\u001b[0mname\u001b[0m\u001b[0;34m,\u001b[0m \u001b[0mh5f\u001b[0m\u001b[0;34m.\u001b[0m\u001b[0mACC_TRUNC\u001b[0m\u001b[0;34m,\u001b[0m \u001b[0mfapl\u001b[0m\u001b[0;34m=\u001b[0m\u001b[0mfapl\u001b[0m\u001b[0;34m,\u001b[0m \u001b[0mfcpl\u001b[0m\u001b[0;34m=\u001b[0m\u001b[0mfcpl\u001b[0m\u001b[0;34m)\u001b[0m\u001b[0;34m\u001b[0m\u001b[0;34m\u001b[0m\u001b[0m\n\u001b[0m\u001b[1;32m    149\u001b[0m     \u001b[0;32melif\u001b[0m \u001b[0mmode\u001b[0m \u001b[0;34m==\u001b[0m \u001b[0;34m'a'\u001b[0m\u001b[0;34m:\u001b[0m\u001b[0;34m\u001b[0m\u001b[0;34m\u001b[0m\u001b[0m\n\u001b[1;32m    150\u001b[0m         \u001b[0;31m# Open in append mode (read/write).\u001b[0m\u001b[0;34m\u001b[0m\u001b[0;34m\u001b[0m\u001b[0;34m\u001b[0m\u001b[0m\n",
            "\u001b[0;32mh5py/_objects.pyx\u001b[0m in \u001b[0;36mh5py._objects.with_phil.wrapper\u001b[0;34m()\u001b[0m\n",
            "\u001b[0;32mh5py/_objects.pyx\u001b[0m in \u001b[0;36mh5py._objects.with_phil.wrapper\u001b[0;34m()\u001b[0m\n",
            "\u001b[0;32mh5py/h5f.pyx\u001b[0m in \u001b[0;36mh5py.h5f.create\u001b[0;34m()\u001b[0m\n",
            "\u001b[0;31mOSError\u001b[0m: Unable to create file (unable to open file: name = 'gdrive/My\\ Drive/colab/squeezenet_old.h5', errno = 2, error message = 'No such file or directory', flags = 13, o_flags = 242)"
          ]
        }
      ]
    },
    {
      "metadata": {
        "id": "9A271ZN2VND3",
        "colab_type": "code",
        "outputId": "b91c1345-cc83-4ff4-97ec-234cbcc4bdad",
        "colab": {
          "base_uri": "https://localhost:8080/",
          "height": 34
        }
      },
      "cell_type": "code",
      "source": [
        "results = squeezenet.evaluate_generator(test_datagen.flow(x_test, y_test, batch_size=batch_size), steps=len(x_test) / batch_size)\n",
        "print(\"Test Accuracy %f\" % (results[1] * 100))"
      ],
      "execution_count": 0,
      "outputs": [
        {
          "output_type": "stream",
          "text": [
            "Test Accuracy 80.970000\n"
          ],
          "name": "stdout"
        }
      ]
    },
    {
      "metadata": {
        "id": "liKHz56DW5dp",
        "colab_type": "text"
      },
      "cell_type": "markdown",
      "source": [
        "## **Plot**"
      ]
    },
    {
      "metadata": {
        "id": "ld8M35gHmGHw",
        "colab_type": "code",
        "outputId": "75fe7e3b-3e34-446b-e5ed-9872568cc25c",
        "colab": {
          "base_uri": "https://localhost:8080/",
          "height": 364
        }
      },
      "cell_type": "code",
      "source": [
        "plt.plot(squeezenet_his.history['loss'])\n",
        "plt.plot(squeezenet_his.history['val_loss'])"
      ],
      "execution_count": 0,
      "outputs": [
        {
          "output_type": "execute_result",
          "data": {
            "text/plain": [
              "[<matplotlib.lines.Line2D at 0x7f6dc8400e80>]"
            ]
          },
          "metadata": {
            "tags": []
          },
          "execution_count": 17
        },
        {
          "output_type": "display_data",
          "data": {
            "image/png": "[encoded data removed]",
            "text/plain": [
              "<Figure size 576x396 with 1 Axes>"
            ]
          },
          "metadata": {
            "tags": []
          }
        }
      ]
    },
    {
      "metadata": {
        "id": "HzD1jj6oo5Ic",
        "colab_type": "code",
        "outputId": "d4b1d7cc-afba-44a8-f103-732386ac4b0d",
        "colab": {
          "base_uri": "https://localhost:8080/",
          "height": 364
        }
      },
      "cell_type": "code",
      "source": [
        "plt.plot(squeezenet_his.history['acc'])\n",
        "plt.plot(squeezenet_his.history['val_acc'])"
      ],
      "execution_count": 0,
      "outputs": [
        {
          "output_type": "execute_result",
          "data": {
            "text/plain": [
              "[<matplotlib.lines.Line2D at 0x7f6dc8400b70>]"
            ]
          },
          "metadata": {
            "tags": []
          },
          "execution_count": 18
        },
        {
          "output_type": "display_data",
          "data": {
            "image/png": "[encoded data removed]",
            "text/plain": [
              "<Figure size 576x396 with 1 Axes>"
            ]
          },
          "metadata": {
            "tags": []
          }
        }
      ]
    },
    {
      "metadata": {
        "id": "AIitKh7AYI02",
        "colab_type": "code",
        "colab": {}
      },
      "cell_type": "code",
      "source": [
        "print(\"# of Parameter Reduction: ~%fx\" % (22559626 / 378914))"
      ],
      "execution_count": 0,
      "outputs": []
    },
    {
      "metadata": {
        "id": "jVxiee4N-l5h",
        "colab_type": "code",
        "outputId": "ec3643a9-e59d-4982-9a78-3405ba317c25",
        "colab": {
          "base_uri": "https://localhost:8080/",
          "height": 232
        }
      },
      "cell_type": "code",
      "source": [
        "import itertools\n",
        "import numpy as np\n",
        "import matplotlib.pyplot as plt\n",
        "from sklearn.metrics import confusion_matrix\n",
        "y_predict = squeezenet.predict(x_valid)\n",
        "#y_t =  np.argmax(y_valid, axis=1)\n",
        "#y_p =  np.argmax(y_predict, axis=1)\n",
        "classes = [\"airplane\",\"automobile\",\"bird\",\"cat\",\"deer\",\"dog\",\"frog\",\"horse\",\"ship\",\"truck\"]\n",
        "cm = confusion_matrix(y_t, y_p)\n",
        "normalize = False\n",
        "plt.imshow(cm, interpolation='nearest', cmap=plt.cm.Blues)\n",
        "plt.title('Confusion Matrix')\n",
        "plt.colorbar()\n",
        "tick_marks = np.arange(len(classes))\n",
        "plt.xticks(tick_marks, classes, rotation=45)\n",
        "plt.yticks(tick_marks, classes)\n",
        "\n",
        "fmt = '.2f' if normalize else 'd'\n",
        "thresh = cm.max() / 2.\n",
        "for i, j in itertools.product(range(cm.shape[0]), range(cm.shape[1])):\n",
        "    plt.text(j, i, format(cm[i, j], fmt),\n",
        "             horizontalalignment=\"center\",\n",
        "             color=\"white\" if cm[i, j] > thresh else \"black\")\n",
        "plt.ylabel('True label')\n",
        "plt.xlabel('Predicted label')\n",
        "plt.tight_layout()\n",
        "plt.show()"
      ],
      "execution_count": 0,
      "outputs": [
        {
          "output_type": "error",
          "ename": "NameError",
          "evalue": "ignored",
          "traceback": [
            "\u001b[0;31m---------------------------------------------------------------------------\u001b[0m",
            "\u001b[0;31mNameError\u001b[0m                                 Traceback (most recent call last)",
            "\u001b[0;32m<ipython-input-1-abf664825e3a>\u001b[0m in \u001b[0;36m<module>\u001b[0;34m()\u001b[0m\n\u001b[1;32m      3\u001b[0m \u001b[0;32mimport\u001b[0m \u001b[0mmatplotlib\u001b[0m\u001b[0;34m.\u001b[0m\u001b[0mpyplot\u001b[0m \u001b[0;32mas\u001b[0m \u001b[0mplt\u001b[0m\u001b[0;34m\u001b[0m\u001b[0;34m\u001b[0m\u001b[0m\n\u001b[1;32m      4\u001b[0m \u001b[0;32mfrom\u001b[0m \u001b[0msklearn\u001b[0m\u001b[0;34m.\u001b[0m\u001b[0mmetrics\u001b[0m \u001b[0;32mimport\u001b[0m \u001b[0mconfusion_matrix\u001b[0m\u001b[0;34m\u001b[0m\u001b[0;34m\u001b[0m\u001b[0m\n\u001b[0;32m----> 5\u001b[0;31m \u001b[0my_predict\u001b[0m \u001b[0;34m=\u001b[0m \u001b[0msqueezenet\u001b[0m\u001b[0;34m.\u001b[0m\u001b[0mpredict\u001b[0m\u001b[0;34m(\u001b[0m\u001b[0mx_valid\u001b[0m\u001b[0;34m)\u001b[0m\u001b[0;34m\u001b[0m\u001b[0;34m\u001b[0m\u001b[0m\n\u001b[0m\u001b[1;32m      6\u001b[0m \u001b[0;31m#y_t =  np.argmax(y_valid, axis=1)\u001b[0m\u001b[0;34m\u001b[0m\u001b[0;34m\u001b[0m\u001b[0;34m\u001b[0m\u001b[0m\n\u001b[1;32m      7\u001b[0m \u001b[0;31m#y_p =  np.argmax(y_predict, axis=1)\u001b[0m\u001b[0;34m\u001b[0m\u001b[0;34m\u001b[0m\u001b[0;34m\u001b[0m\u001b[0m\n",
            "\u001b[0;31mNameError\u001b[0m: name 'squeezenet' is not defined"
          ]
        }
      ]
    }
  ]
}